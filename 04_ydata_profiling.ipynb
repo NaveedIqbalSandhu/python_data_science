{
 "cells": [
  {
   "cell_type": "code",
   "execution_count": 2,
   "metadata": {},
   "outputs": [
    {
     "name": "stderr",
     "output_type": "stream",
     "text": [
      "C:\\Users\\IDEAL COM\\AppData\\Roaming\\Python\\Python312\\site-packages\\tqdm\\auto.py:21: TqdmWarning: IProgress not found. Please update jupyter and ipywidgets. See https://ipywidgets.readthedocs.io/en/stable/user_install.html\n",
      "  from .autonotebook import tqdm as notebook_tqdm\n"
     ]
    }
   ],
   "source": [
    "import ydata_profiling as yd\n",
    "import pandas as pd\n",
    "import seaborn as sns"
   ]
  },
  {
   "cell_type": "code",
   "execution_count": 3,
   "metadata": {},
   "outputs": [],
   "source": [
    "df=sns.load_dataset('titanic')"
   ]
  },
  {
   "cell_type": "code",
   "execution_count": 5,
   "metadata": {},
   "outputs": [
    {
     "name": "stderr",
     "output_type": "stream",
     "text": [
      "Summarize dataset: 100%|██████████| 41/41 [00:14<00:00,  2.82it/s, Completed]                    \n",
      "Generate report structure: 100%|██████████| 1/1 [00:15<00:00, 15.66s/it]\n",
      "Render HTML: 100%|██████████| 1/1 [00:05<00:00,  5.11s/it]\n",
      "Export report to file: 100%|██████████| 1/1 [00:00<00:00, 76.97it/s]\n"
     ]
    }
   ],
   "source": [
    "profile=yd.ProfileReport(df)\n",
    "profile.to_file(output_file='./outputs/04_ydata_titanic.html')"
   ]
  },
  {
   "cell_type": "code",
   "execution_count": 6,
   "metadata": {},
   "outputs": [],
   "source": [
    "df1=pd.read_csv('./data/data.csv')"
   ]
  },
  {
   "cell_type": "code",
   "execution_count": 7,
   "metadata": {},
   "outputs": [
    {
     "name": "stderr",
     "output_type": "stream",
     "text": [
      "Summarize dataset: 100%|██████████| 319/319 [02:36<00:00,  2.04it/s, Completed]                                                     \n",
      "Generate report structure: 100%|██████████| 1/1 [00:40<00:00, 40.27s/it]\n",
      "Render HTML: 100%|██████████| 1/1 [00:36<00:00, 36.53s/it]\n",
      "Export report to file: 100%|██████████| 1/1 [00:00<00:00,  4.80it/s]\n"
     ]
    }
   ],
   "source": [
    "profile=yd.ProfileReport(df1)\n",
    "profile.to_file(output_file='./outputs/04b_pak_pop.html')"
   ]
  }
 ],
 "metadata": {
  "kernelspec": {
   "display_name": "python_eda",
   "language": "python",
   "name": "python3"
  },
  "language_info": {
   "codemirror_mode": {
    "name": "ipython",
    "version": 3
   },
   "file_extension": ".py",
   "mimetype": "text/x-python",
   "name": "python",
   "nbconvert_exporter": "python",
   "pygments_lexer": "ipython3",
   "version": "3.12.4"
  }
 },
 "nbformat": 4,
 "nbformat_minor": 2
}
